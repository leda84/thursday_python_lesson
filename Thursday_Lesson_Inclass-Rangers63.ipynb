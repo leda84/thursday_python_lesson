{
 "cells": [
  {
   "cell_type": "markdown",
   "metadata": {},
   "source": [
    "# Object-Oriented-Programming (OOP)"
   ]
  },
  {
   "cell_type": "markdown",
   "metadata": {},
   "source": [
    "## Tasks Today:\n",
    "\n",
    "   \n",
    "\n",
    "1) <b>Creating a Class (Initializing/Declaring)</b> <br>\n",
    "2) <b>Using a Class (Instantiating)</b> <br>\n",
    " &nbsp;&nbsp;&nbsp;&nbsp; a) Creating One Instance <br>\n",
    " &nbsp;&nbsp;&nbsp;&nbsp; b) Creating Multiple Instances <br>\n",
    " &nbsp;&nbsp;&nbsp;&nbsp; c) In-Class Exercise #1 - Create a Class 'Car' and instantiate three different makes of cars <br>\n",
    "3) <b>The \\__init\\__() Method</b> <br>\n",
    " &nbsp;&nbsp;&nbsp;&nbsp; a) The 'self' Attribute <br>\n",
    "4) <b>Class Attributes</b> <br>\n",
    " &nbsp;&nbsp;&nbsp;&nbsp; a) Initializing Attributes <br>\n",
    " &nbsp;&nbsp;&nbsp;&nbsp; b) Setting an Attribute Outside of the \\__init\\__() Method <br>\n",
    " &nbsp;&nbsp;&nbsp;&nbsp; c) Setting Defaults for Attributes <br>\n",
    " &nbsp;&nbsp;&nbsp;&nbsp; d) Accessing Class Attributes <br>\n",
    " &nbsp;&nbsp;&nbsp;&nbsp; e) Changing Class Attributes <br>\n",
    " &nbsp;&nbsp;&nbsp;&nbsp; f) In-Class Exercise #2 - Add a color and wheels attribute to your 'Car' class <br>\n",
    "5) <b>Class Methods</b> <br>\n",
    " &nbsp;&nbsp;&nbsp;&nbsp; a) Creating <br>\n",
    " &nbsp;&nbsp;&nbsp;&nbsp; b) Calling <br>\n",
    " &nbsp;&nbsp;&nbsp;&nbsp; c) Modifying an Attribute's Value Through a Method <br>\n",
    " &nbsp;&nbsp;&nbsp;&nbsp; d) Incrementing an Attribute's Value Through a Method <br>\n",
    " &nbsp;&nbsp;&nbsp;&nbsp; e) In-Class Exercise #3 - Add a method that prints the cars color and wheel number, then call them <br>\n",
    "6) <b>Inheritance</b> <br>\n",
    " &nbsp;&nbsp;&nbsp;&nbsp; a) Syntax for Inheriting from a Parent Class <br>\n",
    " &nbsp;&nbsp;&nbsp;&nbsp; b) The \\__init\\__() Method for a Child Class (super()) <br>\n",
    " &nbsp;&nbsp;&nbsp;&nbsp; c) Defining Attributes and Methods for the Child Class <br>\n",
    " &nbsp;&nbsp;&nbsp;&nbsp; d) Method Overriding <br>\n",
    " &nbsp;&nbsp;&nbsp;&nbsp; e) In-Class Exercise #4 - Create a class 'Ford' that inherits from 'Car' class and initialize it as a Blue Ford Explorer with 4 wheels using the super() method <br>\n",
    "7) <b>Classes as Attributes</b> <br>\n",
    "8) <b>Exercises</b> <br>\n",
    " &nbsp;&nbsp;&nbsp;&nbsp; a) Exercise #1 - Turn the shopping cart program from yesterday into an object-oriented program <br>"
   ]
  },
  {
   "cell_type": "markdown",
   "metadata": {},
   "source": [
    "## Creating a Class (Initializing/Declaring)\n",
    "<p>When creating a class, function, or even a variable you are initializing that object. Initializing and Declaring occur at the same time in Python, whereas in lower level languages you have to declare an object before initializing it. This is the first step in the process of using a class.</p>"
   ]
  },
  {
   "cell_type": "code",
   "execution_count": 1,
   "metadata": {},
   "outputs": [],
   "source": [
    "class Car():\n",
    "    wheels = 4\n",
    "    color = 'blue'"
   ]
  },
  {
   "cell_type": "markdown",
   "metadata": {},
   "source": [
    "## Using a Class (Instantiating)\n",
    "<p>The process of creating a class is called <i>Instantiating</i>. Each time you create a variable of that type of class, it is referred to as an <i>Instance</i> of that class. This is the second step in the process of using a class.</p>"
   ]
  },
  {
   "cell_type": "markdown",
   "metadata": {},
   "source": [
    "##### Creating One Instance"
   ]
  },
  {
   "cell_type": "code",
   "execution_count": 2,
   "metadata": {},
   "outputs": [],
   "source": [
    "ford_focus = Car()"
   ]
  },
  {
   "cell_type": "markdown",
   "metadata": {},
   "source": [
    "##### Creating Multiple Instances"
   ]
  },
  {
   "cell_type": "code",
   "execution_count": null,
   "metadata": {},
   "outputs": [],
   "source": [
    "# instantiating these types of cars into Cars() class\n",
    "honda = Car()\n",
    "chevy = Car()\n",
    "porsche = Car()\n",
    "\n",
    "#access info from class using .\n",
    "#honda is in class car so you can access the color that is in class Car \n",
    "print(honda.color)\n",
    "\n",
    "#trying to print an attribute that is not assigned in class\n",
    "# print(honda.horn)\n",
    "\n"
   ]
  },
  {
   "cell_type": "markdown",
   "metadata": {},
   "source": [
    "##### In-Class Exercise #1 - Create a Class 'Car' and Instantiate three different makes of cars"
   ]
  },
  {
   "cell_type": "code",
   "execution_count": 7,
   "metadata": {},
   "outputs": [
    {
     "name": "stdout",
     "output_type": "stream",
     "text": [
      "AWD\n",
      "4\n"
     ]
    }
   ],
   "source": [
    "class Car():\n",
    "    doors = 4\n",
    "    color = 'black'\n",
    "    powertrain = 'AWD'\n",
    "    \n",
    "hyundai = Car()\n",
    "pontiac = Car()\n",
    "toyota = Car()\n",
    "\n",
    "\n",
    "print(hyundai.powertrain)\n",
    "print(toyota.doors)"
   ]
  },
  {
   "cell_type": "markdown",
   "metadata": {},
   "source": [
    "## The \\__init\\__() Method <br>\n",
    "<p>This method is used in almost every created class, and called only once upon the creation of the class instance. This method will initialize all variables needed for the object.</p>"
   ]
  },
  {
   "cell_type": "code",
   "execution_count": 10,
   "metadata": {},
   "outputs": [
    {
     "name": "stdout",
     "output_type": "stream",
     "text": [
      "4\n",
      "blue\n"
     ]
    },
    {
     "data": {
      "text/plain": [
       "{'wheels': 8, 'color': 'blue'}"
      ]
     },
     "execution_count": 10,
     "metadata": {},
     "output_type": "execute_result"
    }
   ],
   "source": [
    "class Car():\n",
    "    ENGINE = '4.7L' #constant-attribute, DO NOT CHANGE\n",
    "    #when typed in caps, you shouldnt change it\n",
    "    \n",
    "    # use the double underscores in front and after\n",
    "    def __init__(self, wheels, color):\n",
    "        #self is the instantiated object\n",
    "        #self references the object\n",
    "        #allows us to assign as we enter the object\n",
    "        self.wheels = wheels\n",
    "        self.color = color\n",
    "        \n",
    "bmw = Car(4,'red')\n",
    "ford = Car(8, 'blue')\n",
    "\n",
    "print(bmw.wheels)\n",
    "print(ford.color)\n",
    "\n",
    "# use to access the dictionary of instance(ford)\n",
    "ford.__dict__"
   ]
  },
  {
   "cell_type": "markdown",
   "metadata": {},
   "source": [
    "##### The 'self' Attribute <br>\n",
    "<p>This attribute is required to keep track of specific instance's attributes. Without the self attribute, the program would not know how to reference or keep track of an instance's attributes.</p>"
   ]
  },
  {
   "cell_type": "code",
   "execution_count": null,
   "metadata": {},
   "outputs": [],
   "source": [
    "# see above"
   ]
  },
  {
   "cell_type": "markdown",
   "metadata": {},
   "source": [
    "## Class Attributes <br>\n",
    "<p>While variables are inside of a class, they are referred to as attributes and not variables. When someone says 'attribute' you know they're speaking about a class. Attributes can be initialized through the init method, or outside of it.</p>"
   ]
  },
  {
   "cell_type": "markdown",
   "metadata": {},
   "source": [
    "##### Initializing Attributes"
   ]
  },
  {
   "cell_type": "code",
   "execution_count": 12,
   "metadata": {},
   "outputs": [
    {
     "name": "stdout",
     "output_type": "stream",
     "text": [
      "Star Wars\n",
      "rectangular\n"
     ]
    }
   ],
   "source": [
    "class Toy():\n",
    "    toy_type = 'lego'\n",
    "    \n",
    "    def __init__(self, modular, shape, color, collection):\n",
    "        self.modular = modular\n",
    "        self.shape = shape\n",
    "        self.color = color\n",
    "        self.collection = collection\n",
    "        \n",
    "        \n",
    "y_wing = Toy(True, 'rectangle', 'grey', 'Star Wars')\n",
    "white_house = Toy(True, 'rectangular', 'white', 'architecture')\n",
    "\n",
    "print(y_wing.collection)\n",
    "print(white_house.shape)"
   ]
  },
  {
   "cell_type": "markdown",
   "metadata": {},
   "source": [
    "##### Accessing Class Attributes"
   ]
  },
  {
   "cell_type": "code",
   "execution_count": null,
   "metadata": {
    "scrolled": true
   },
   "outputs": [],
   "source": [
    "# See Above\n",
    "# grab  the object.attribute\n",
    "print(y_wing.collection)\n",
    "print(white_house.shape)"
   ]
  },
  {
   "cell_type": "markdown",
   "metadata": {},
   "source": [
    "##### Setting Defaults for Attributes"
   ]
  },
  {
   "cell_type": "code",
   "execution_count": 13,
   "metadata": {},
   "outputs": [
    {
     "name": "stdout",
     "output_type": "stream",
     "text": [
      "8\n",
      "Blue\n"
     ]
    }
   ],
   "source": [
    "class Car():\n",
    "    engine = '4.7'\n",
    "    \n",
    "    def __init__(self, wheels):\n",
    "        self.wheels = wheels\n",
    "        self.color = 'Blue' #default attribute\n",
    "        \n",
    "jeep = Car(8)\n",
    "honda = Car(4)\n",
    "    \n",
    "print(jeep.wheels)\n",
    "print(honda.color)"
   ]
  },
  {
   "cell_type": "markdown",
   "metadata": {},
   "source": [
    "##### Changing Class Attributes <br>\n",
    "<p>Keep in mind there are global class attributes and then there are attributes only available to each class instance which won't effect other classes.</p>"
   ]
  },
  {
   "cell_type": "code",
   "execution_count": 14,
   "metadata": {},
   "outputs": [
    {
     "name": "stdout",
     "output_type": "stream",
     "text": [
      "Before changes: Blue\n",
      "After changes: White\n"
     ]
    }
   ],
   "source": [
    "# Changing default attributes for our jeep\n",
    "\n",
    "print(f'Before changes: {jeep.color}')\n",
    "\n",
    "# setting the new color attribute to white\n",
    "jeep.color = \"White\"\n",
    "print(f'After changes: {jeep.color}')"
   ]
  },
  {
   "cell_type": "code",
   "execution_count": null,
   "metadata": {},
   "outputs": [],
   "source": []
  },
  {
   "cell_type": "markdown",
   "metadata": {},
   "source": [
    "##### In-Class Exercise #2 - Add a doors and seats attribute to your 'Car' class then print out two different instances with different doors and seats"
   ]
  },
  {
   "cell_type": "code",
   "execution_count": 16,
   "metadata": {},
   "outputs": [
    {
     "name": "stdout",
     "output_type": "stream",
     "text": [
      "7\n",
      "4\n"
     ]
    }
   ],
   "source": [
    "class Car():\n",
    "    COLOR = 'black'\n",
    "    POWERTRAIN = 'AWD'\n",
    "    \n",
    "    def __init__(self, doors, seats):\n",
    "        self.doors = doors\n",
    "        self.seats = seats\n",
    "    \n",
    "hyundai = Car(4, 7)\n",
    "pontiac = Car(4, 5)\n",
    "toyota = Car(4, 8)\n",
    "\n",
    "print(hyundai.seats)\n",
    "print(toyota.doors)"
   ]
  },
  {
   "cell_type": "markdown",
   "metadata": {},
   "source": [
    "## Class Methods <br>\n",
    "<p>While inside of a class, functions are referred to as 'methods'. If you hear someone mention methods, they're speaking about classes. Methods are essentially functions, but only callable on the instances of a class.</p>"
   ]
  },
  {
   "cell_type": "markdown",
   "metadata": {},
   "source": [
    "##### Creating"
   ]
  },
  {
   "cell_type": "code",
   "execution_count": null,
   "metadata": {},
   "outputs": [],
   "source": [
    "class Inventory():\n",
    "    \"\"\"\n",
    "        The Inventory Class will have capacity and items\n",
    "        to place inside.\n",
    "        \n",
    "        Attributes for the class:\n",
    "        \n",
    "        - capacity: expected to be a string OR an integer\n",
    "        - items: expected to be a list\n",
    "    \"\"\"\n",
    "    \n",
    "    def __init__(self, capacity, items):\n",
    "        \n",
    "        self.capacity = capacity\n",
    "        self.items = items\n",
    "        \n",
    "    # Method that shows the shoppingBag items\n",
    "    def showInventory(self):\n",
    "        if self.items == []:\n",
    "            print(\"Your bag is empty, gather supplies quickly!\")\n",
    "        else:\n",
    "            print(\"Here are your adventuring items:\")\n",
    "            for item in self.items:                                 \n",
    "                print(item)  \n",
    "                \n",
    "                \n",
    "    \n",
    "    # Method that shows capacity of shoppingBag\n",
    "    def showCapacity(self):\n",
    "        print(f'Your Capacity is: {self.capacity}')\n",
    "        \n",
    "    # Method that adds Item(s) to the items list for the shoppingBag\n",
    "    def addToInventory(self):\n",
    "        supplies = input('What would you like to add? ')\n",
    "        self.items.append(supplies)\n",
    "        \n",
    "    # Method that changes the capacity of the shoppingBag (dynamically)\n",
    "    def changeInventoryCapacity(self, capacity):\n",
    "        self.capacity = capacity\n",
    "        \n",
    "    # Method that increases Capacity of the shoppingBag by 10 -- default\n",
    "    def increaseCapacity(self, changed_capacity = 10):\n",
    "        if isinstance(self.capacity, str):\n",
    "            print(\"This is not the datatype you're looking for...\")\n",
    "        else:\n",
    "            self.capacity += changed_capacity"
   ]
  },
  {
   "cell_type": "markdown",
   "metadata": {},
   "source": [
    "##### Calling"
   ]
  },
  {
   "cell_type": "code",
   "execution_count": null,
   "metadata": {},
   "outputs": [],
   "source": [
    "# See Above\n",
    "# creating an instance of our inventory class\n",
    "mage_bag = Inventory(10, []) #empty list for our items\n",
    "\n",
    "#create function to run inventory methods\n",
    "def run():\n",
    "    while True:\n",
    "        response = input('What would you like to do? add/show/quit')\n",
    "        \n",
    "        if response.lower() == 'quit':\n",
    "            mage_bag.showInventory()\n",
    "            print('ONWARD! YOUR QUEST IS YET TO BE COMPLETED!')\n",
    "            break\n",
    "        elif response.lower() == 'add':\n",
    "            mage_bag.addToInventory()\n",
    "            \n",
    "        elif response.lower() == 'show':\n",
    "            mage_bag.showInventory()\n",
    "            \n",
    "            \n",
    "run()"
   ]
  },
  {
   "cell_type": "markdown",
   "metadata": {},
   "source": [
    "##### Modifying an Attribute's Value Through a Method"
   ]
  },
  {
   "cell_type": "code",
   "execution_count": 24,
   "metadata": {},
   "outputs": [
    {
     "name": "stdout",
     "output_type": "stream",
     "text": [
      "Your Capacity is: 10\n",
      "Capacity AFTER the DEFAULT change...\n",
      "Your Capacity is: 15\n"
     ]
    }
   ],
   "source": [
    "# show capacity\n",
    "mage_bag.showCapacity()\n",
    "print('Capacity AFTER the DEFAULT change...')\n",
    "mage_bag.changeInventoryCapacity(15)\n",
    "mage_bag.showCapacity()\n",
    "#print('Capacity AFTER NOT DEFAULT of added change...')\n",
    "#mage_bag.changeInventoryCapacity(15)\n",
    "#mage_bag.showCapacity()"
   ]
  },
  {
   "cell_type": "markdown",
   "metadata": {},
   "source": [
    "##### Incrementing an Attribute's Value Through a Method"
   ]
  },
  {
   "cell_type": "code",
   "execution_count": 27,
   "metadata": {},
   "outputs": [
    {
     "name": "stdout",
     "output_type": "stream",
     "text": [
      "Your Capacity is: 45\n",
      "Capacity AFTER increase\n",
      "Your Capacity is: 55\n",
      "Capacity after non-default capacity increase\n",
      "Your Capacity is: 75\n"
     ]
    }
   ],
   "source": [
    "mage_bag.showCapacity()\n",
    "print('Capacity AFTER increase')\n",
    "mage_bag.increaseCapacity()\n",
    "mage_bag.showCapacity()\n",
    "print('Capacity after non-default capacity increase')\n",
    "mage_bag.increaseCapacity(20)\n",
    "mage_bag.showCapacity()"
   ]
  },
  {
   "cell_type": "markdown",
   "metadata": {},
   "source": [
    "##### In-Class Exercise #3 - Add a method that takes in three parameters of year, doors and seats and prints out a formatted print statement with make, model, year, seats, and doors"
   ]
  },
  {
   "cell_type": "code",
   "execution_count": 33,
   "metadata": {},
   "outputs": [
    {
     "name": "stdout",
     "output_type": "stream",
     "text": [
      "This car is from 2019 and is a Ford Explorer and has 4 doors and 5 seats.\n"
     ]
    }
   ],
   "source": [
    "# Create class with 2 paramters inside of the __init__ which are make and model\n",
    "\n",
    "# Inside of the Car class create a method that has 4 parameter in total (self,year,door,seats)\n",
    "\n",
    "# Output: This car is from 2019 and is a Ford Expolorer and has 4 doors and 5 seats\n",
    "\n",
    "class Cars():\n",
    "    YEAR = 2019\n",
    "    DOORS = 4\n",
    "    SEATS = 5\n",
    "    \n",
    "    def __init__(self, make, model):\n",
    "        self.make = make\n",
    "        self.model = model\n",
    "        \n",
    "ford = Cars('Ford', 'Explorer')\n",
    "print(f'This car is from {ford.YEAR} and is a {ford.make} {ford.model} and has {ford.DOORS} doors and {ford.SEATS} seats.')"
   ]
  },
  {
   "cell_type": "code",
   "execution_count": null,
   "metadata": {},
   "outputs": [],
   "source": [
    "# Christian's example\n",
    "class Person():\n",
    "    people = []\n",
    "    def __init__(self, age, name, occupation):\n",
    "        self.age = age\n",
    "        self.name = name\n",
    "        self.occupation = occupation\n",
    "        Person.people.append(self)\n",
    "    \n",
    "    def introduce(self):\n",
    "        print(f\"Hello, my name is {self.name}, I am {self.age} years old, and I am a {self.occupation}\")\n",
    "        \n",
    "frank = Person(\"Frank Burger\", 16, \"High School Student\")\n",
    "joe = Person(\"Joe Shmoe\", 30, \"Plumber\")\n",
    "jeff = Person(\"Jeff Bezos\", 57, \"Aspiring Overlord\")\n",
    "jane = Person(\"Jane Doe\", 43, \"Veteranarian\")\n",
    "\n",
    "# Add for loop to not have to keep typing out whoever name over and over\n",
    "for person in Person.people:\n",
    "    person.introduce()\n"
   ]
  },
  {
   "cell_type": "markdown",
   "metadata": {},
   "source": [
    "## Inheritance <br>\n",
    "<p>You can create a child-parent relationship between two classes by using inheritance. What this allows you to do is have overriding methods, but also inherit traits from the parent class. Think of it as an actual parent and child, the child will inherit the parent's genes, as will the classes in OOP</p>"
   ]
  },
  {
   "cell_type": "markdown",
   "metadata": {},
   "source": [
    "##### Syntax for Inheriting from a Parent Class"
   ]
  },
  {
   "cell_type": "code",
   "execution_count": 43,
   "metadata": {},
   "outputs": [
    {
     "name": "stdout",
     "output_type": "stream",
     "text": [
      "Reeee\n",
      "Lassie can run at 15 mph and accelerates at 9.8.\n",
      "green\n"
     ]
    }
   ],
   "source": [
    "# Parent Class -- Animal\n",
    "class Animal():\n",
    "    ACCELERATION = 9.8\n",
    "    \n",
    "    def __init__(self, name, species, legs=4):\n",
    "        self.name = name\n",
    "        self.species = species\n",
    "        self.legs = legs\n",
    "        \n",
    "    # Generic Parent (Animal) Method\n",
    "    def makeSound(self):\n",
    "        noise = \"Reeee\"\n",
    "        return noise\n",
    "    \n",
    "    # Dog inherits from Animal\n",
    "class Dog(Animal):\n",
    "    SPEED = 15\n",
    "    \n",
    "    def printInfo(self):\n",
    "        print(f'{self.name} can run at {self.SPEED} mph and accelerates at {self.ACCELERATION}.')\n",
    "    \n",
    "    #Mut inherits from Dog(which also inherits from Animal)\n",
    "class Mut(Dog):\n",
    "    COLOR = 'black, brown, and white'\n",
    "    \n",
    "    # Overriding the Animal class __init__ method by using the Dog class\n",
    "    def __init__(self, name, species, eye_color, legs = 4):\n",
    "        Dog.__init__(self, name, species, legs)\n",
    "        self.eye_color = eye_color\n",
    "            \n",
    "    # Override the makeSound method from the Animal class\n",
    "    def makeSound(self):\n",
    "        noise = 'Bark'\n",
    "        return noise\n",
    "    \n",
    "\n",
    "lizard = Animal('Sarah', 'Bearded Dragon')\n",
    "lassie = Dog('Lassie', 'Collie')\n",
    "buddy = Mut('Buddy', 'Mut', 'green')\n",
    "\n",
    "print(lizard.makeSound())\n",
    "lassie.printInfo()\n",
    "buddy.makeSound()\n",
    "print(buddy.eye_color)\n"
   ]
  },
  {
   "cell_type": "markdown",
   "metadata": {},
   "source": [
    "##### The \\__init\\__() Method for a Child Class - super()"
   ]
  },
  {
   "cell_type": "code",
   "execution_count": 48,
   "metadata": {
    "scrolled": true
   },
   "outputs": [
    {
     "name": "stdout",
     "output_type": "stream",
     "text": [
      "9.8\n",
      "15\n",
      "4\n",
      "4\n",
      "Help on class Mut in module __main__:\n",
      "\n",
      "class Mut(Dog)\n",
      " |  Mut(name, species, eye_color, legs=4)\n",
      " |  \n",
      " |  Method resolution order:\n",
      " |      Mut\n",
      " |      Dog\n",
      " |      Animal\n",
      " |      builtins.object\n",
      " |  \n",
      " |  Methods defined here:\n",
      " |  \n",
      " |  __init__(self, name, species, eye_color, legs=4)\n",
      " |      Initialize self.  See help(type(self)) for accurate signature.\n",
      " |  \n",
      " |  makeSound(self)\n",
      " |      # Override the makeSound method from the Animal class\n",
      " |  \n",
      " |  ----------------------------------------------------------------------\n",
      " |  Data and other attributes defined here:\n",
      " |  \n",
      " |  COLOR = 'black, brown, and white'\n",
      " |  \n",
      " |  ----------------------------------------------------------------------\n",
      " |  Methods inherited from Dog:\n",
      " |  \n",
      " |  printInfo(self)\n",
      " |  \n",
      " |  ----------------------------------------------------------------------\n",
      " |  Data and other attributes inherited from Dog:\n",
      " |  \n",
      " |  SPEED = 15\n",
      " |  \n",
      " |  ----------------------------------------------------------------------\n",
      " |  Data descriptors inherited from Animal:\n",
      " |  \n",
      " |  __dict__\n",
      " |      dictionary for instance variables (if defined)\n",
      " |  \n",
      " |  __weakref__\n",
      " |      list of weak references to the object (if defined)\n",
      " |  \n",
      " |  ----------------------------------------------------------------------\n",
      " |  Data and other attributes inherited from Animal:\n",
      " |  \n",
      " |  ACCELERATION = 9.8\n",
      "\n"
     ]
    }
   ],
   "source": [
    "class Mut(Dog):\n",
    "    COLOR = 'black, brown, and white'\n",
    "    \n",
    "    # Overriding the Animal class __init__ method by using the Dog class\n",
    "    def __init__(self, name, species, eye_color, legs = 4):\n",
    "        #super grabs from all the parents(family tree) and passing it down\n",
    "        super().__init__(name, species, legs)\n",
    "        self.eye_color = eye_color\n",
    "            \n",
    "    # Override the makeSound method from the Animal class\n",
    "    def makeSound(self):\n",
    "        noise = 'Bark'\n",
    "        return noise\n",
    "    \n",
    "fido = Mut(\"Fido\", \"Mut\", \"Blue\")\n",
    "jimothy = Mut(\"Jimothy\", \"Mut\", \"Hazel\")\n",
    "print(fido.ACCELERATION)\n",
    "print(jimothy.SPEED)\n",
    "print(fido.legs)\n",
    "print(jimothy.legs)\n",
    "\n",
    "# to show all info of class\n",
    "help(Mut)"
   ]
  },
  {
   "cell_type": "markdown",
   "metadata": {},
   "source": [
    "##### Defining Attributes and Methods for the Child Class"
   ]
  },
  {
   "cell_type": "code",
   "execution_count": null,
   "metadata": {},
   "outputs": [],
   "source": [
    "# See Above"
   ]
  },
  {
   "cell_type": "markdown",
   "metadata": {},
   "source": [
    "##### Method Overriding"
   ]
  },
  {
   "cell_type": "code",
   "execution_count": null,
   "metadata": {},
   "outputs": [],
   "source": [
    "# See Above"
   ]
  },
  {
   "cell_type": "markdown",
   "metadata": {},
   "source": [
    "## Classes as Attributes <br>\n",
    "<p>Classes can also be used as attributes within another class. This is useful in situations where you need to keep variables locally stored, instead of globally stored.</p>"
   ]
  },
  {
   "cell_type": "code",
   "execution_count": 54,
   "metadata": {},
   "outputs": [
    {
     "name": "stdout",
     "output_type": "stream",
     "text": [
      "20\n",
      "20\n"
     ]
    },
    {
     "data": {
      "text/plain": [
       "'2015 Toyota Prius 20'"
      ]
     },
     "execution_count": 54,
     "metadata": {},
     "output_type": "execute_result"
    }
   ],
   "source": [
    "class Battery():\n",
    "    VOLTS = 7.8\n",
    "    \n",
    "    def __init__(self, cells):\n",
    "        self.cells = cells\n",
    "        \n",
    "class Car():\n",
    "    def __init__(self, year, make, model, battery):\n",
    "        self.year = year\n",
    "        self.make = make\n",
    "        self.model = model\n",
    "        self.battery = battery\n",
    "        \n",
    "    def printInfo(self):\n",
    "        return f\"{self.year} {self.make} {self.model} {self.battery.cells}\"\n",
    "    \n",
    "battery = Battery(20)\n",
    "\n",
    "prius = Car(2015, \"Toyota\", \"Prius\", battery)\n",
    "\n",
    "print(battery.cells)\n",
    "print(prius.battery.cells)\n",
    "prius.printInfo()"
   ]
  },
  {
   "cell_type": "markdown",
   "metadata": {},
   "source": [
    "# Exercises"
   ]
  },
  {
   "cell_type": "markdown",
   "metadata": {},
   "source": [
    "### Exercise 1 - Turn the shopping cart program from yesterday into an object-oriented program\n",
    "\n",
    "The comments in the cell below are there as a guide for thinking about the problem. However, if you feel a different way is best for you and your own thought process, please do what feels best for you by all means."
   ]
  },
  {
   "cell_type": "code",
   "execution_count": 13,
   "metadata": {},
   "outputs": [
    {
     "name": "stdout",
     "output_type": "stream",
     "text": [
      "Here are the items in your cart:\n",
      "candy\n",
      "flowers\n",
      "Thank you for stopping by! Hope to see you back soon for some fun shopping!\n"
     ]
    }
   ],
   "source": [
    "from IPython.display import clear_output\n",
    "\n",
    "# Create a class called cart that retains items and has methods to add, remove, and show\n",
    "\n",
    "class Cart():\n",
    "    def __init__(self, items):\n",
    "        self.items = items\n",
    "        \n",
    "    def showCart(self):\n",
    "        if self.items == []:\n",
    "            print(\"Your cart is empty. Add some items to start shopping!\")\n",
    "        else:\n",
    "            print(\"Here are the items in your cart:\")\n",
    "            for item in self.items:                                 \n",
    "                print(item)  \n",
    "    def addToCart(self):\n",
    "        supplies = input('What would you like to add to your cart? ')\n",
    "        self.items.append(supplies)\n",
    "    def deleteFromCart(self):\n",
    "        deleted = input('What would you like to remove from your cart? ')\n",
    "        self.items.remove(deleted)\n",
    "        \n",
    "my_cart = Cart([]) #empty list for our items\n",
    "\n",
    "#create function to run the cart\n",
    "def go_shopping():\n",
    "    while True:\n",
    "        response = input('Welcome to The Shop! What would you like to do? add/show/delete/quit: ')\n",
    "        if response.lower() == 'quit':\n",
    "            clear_output()\n",
    "            my_cart.showCart()\n",
    "            print('Thank you for stopping by! Hope to see you back soon for some fun shopping!')\n",
    "            break\n",
    "        if response.lower() == 'add':\n",
    "            clear_output()\n",
    "            my_cart.addToCart()\n",
    "            \n",
    "        if response.lower() == 'show':\n",
    "            clear_output()\n",
    "            my_cart.showCart()\n",
    "            \n",
    "        if response.lower() == 'delete':\n",
    "            clear_output()\n",
    "            my_cart.deleteFromCart()\n",
    "            \n",
    "go_shopping()"
   ]
  },
  {
   "cell_type": "markdown",
   "metadata": {},
   "source": [
    "### Exercise 2 - Write a Python class which has two methods get_String and print_String. get_String accepts a string from the user and print_String prints the string in upper case"
   ]
  },
  {
   "cell_type": "code",
   "execution_count": 29,
   "metadata": {},
   "outputs": [
    {
     "name": "stdout",
     "output_type": "stream",
     "text": [
      " \n",
      "Enter any word or sentence: hello\n",
      "hello\n",
      "HELLO\n"
     ]
    }
   ],
   "source": [
    "class Get_n_Print():\n",
    "    \n",
    "    def __init__(self):\n",
    "        self.response = \" \"\n",
    "    \n",
    "    def get_String(self):\n",
    "        self.response = input(\"Enter any word or sentence: \")\n",
    "        \n",
    "    def print_String(self):\n",
    "        if self.response == \" \":\n",
    "            self.get_String()\n",
    "        else:\n",
    "            print(self.response.upper())\n",
    "    \n",
    "something = Get_n_Print()\n",
    "\n",
    "print(something.response)\n",
    "something.get_String()\n",
    "print(something.response)\n",
    "something.print_String()"
   ]
  },
  {
   "cell_type": "code",
   "execution_count": null,
   "metadata": {},
   "outputs": [],
   "source": []
  }
 ],
 "metadata": {
  "kernelspec": {
   "display_name": "Python 3",
   "language": "python",
   "name": "python3"
  },
  "language_info": {
   "codemirror_mode": {
    "name": "ipython",
    "version": 3
   },
   "file_extension": ".py",
   "mimetype": "text/x-python",
   "name": "python",
   "nbconvert_exporter": "python",
   "pygments_lexer": "ipython3",
   "version": "3.8.8"
  }
 },
 "nbformat": 4,
 "nbformat_minor": 2
}
